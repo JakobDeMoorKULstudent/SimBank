{
 "cells": [
  {
   "cell_type": "code",
   "execution_count": 1,
   "metadata": {},
   "outputs": [],
   "source": [
    "%load_ext autoreload\n",
    "%autoreload 2\n",
    "%reload_ext autoreload"
   ]
  },
  {
   "cell_type": "code",
   "execution_count": 2,
   "metadata": {},
   "outputs": [],
   "source": [
    "path = \"c:\\\\Users\\\\u0166838\\\\OneDrive - KU Leuven\\\\Documents\\\\Doc\\\\Code\\\\SimBank from Simulation to Solution in Prescriptive Process Monitoring\"\n",
    "\n",
    "import math\n",
    "import random\n",
    "from datetime import datetime\n",
    "from copy import deepcopy\n",
    "from itertools import product\n",
    "import simulation\n",
    "import confounding_level\n",
    "import sys\n",
    "sys.path.append(path)\n",
    "from src.utils.tools import save_data, load_data"
   ]
  },
  {
   "cell_type": "code",
   "execution_count": null,
   "metadata": {},
   "outputs": [],
   "source": [
    "#DATASET parameters\n",
    "dataset_params = {}\n",
    "#general\n",
    "dataset_params[\"train_size\"] = 100000\n",
    "dataset_params[\"test_size\"] = 10000\n",
    "dataset_params[\"val_share\"] = .5\n",
    "dataset_params[\"train_val_size\"] = 10000\n",
    "dataset_params[\"test_val_size\"] = min(int(dataset_params[\"val_share\"] * dataset_params[\"test_size\"]), 1000)\n",
    "dataset_params[\"simulation_start\"] = datetime(2024, 3, 20, 8, 0)\n",
    "dataset_params[\"random_seed_train\"] = 82\n",
    "dataset_params[\"random_seed_test\"] = 130\n",
    "#process\n",
    "dataset_params[\"log_cols\"] = [\"case_nr\", \"activity\", \"timestamp\", \"elapsed_time\", \"cum_cost\", \"est_quality\", \"unc_quality\", \"amount\", \"interest_rate\", \"discount_factor\", \"outcome\", \"quality\", \"noc\", \"nor\", \"min_interest_rate\"]\n",
    "dataset_params[\"case_cols\"] = [\"amount\"]\n",
    "dataset_params[\"event_cols\"] = [\"activity\", \"elapsed_time\", \"cum_cost\", \"est_quality\", \"unc_quality\", \"interest_rate\", \"discount_factor\"]\n",
    "dataset_params[\"cat_cols\"] = [\"activity\"]\n",
    "dataset_params[\"scale_cols\"] = [\"amount\", \"elapsed_time\", \"cum_cost\", \"est_quality\", \"unc_quality\", \"interest_rate\", \"discount_factor\", \"outcome\"]\n",
    "#intervention\n",
    "dataset_params[\"intervention_info\"] = {}\n",
    "# dataset_params[\"intervention_info\"][\"name\"] = [\"choose_procedure\"]\n",
    "# dataset_params[\"intervention_info\"][\"name\"] = [\"set_ir_3_levels\"]\n",
    "# dataset_params[\"intervention_info\"][\"name\"] = [\"time_contact_HQ\"]\n",
    "dataset_params[\"intervention_info\"][\"name\"] = [\"choose_procedure\", \"set_ir_3_levels\"]\n",
    "if dataset_params[\"intervention_info\"][\"name\"] == [\"choose_procedure\"]:\n",
    "    dataset_params[\"intervention_info\"][\"data_impact\"] = [\"direct\"]\n",
    "    dataset_params[\"intervention_info\"][\"actions\"] = [[\"start_standard\", \"start_priority\"]] #If binary, last action is the 'treatment' action\n",
    "    dataset_params[\"intervention_info\"][\"action_width\"] = [2]\n",
    "    dataset_params[\"intervention_info\"][\"action_depth\"] = [1]\n",
    "    dataset_params[\"intervention_info\"][\"activities\"] = [[\"start_standard\", \"start_priority\"]]\n",
    "    dataset_params[\"intervention_info\"][\"column\"] = [\"activity\"]\n",
    "    dataset_params[\"intervention_info\"][\"start_control_activity\"] = [[\"initiate_application\"]]\n",
    "    dataset_params[\"intervention_info\"][\"end_control_activity\"] = [[\"initiate_application\"]]\n",
    "elif dataset_params[\"intervention_info\"][\"name\"] == [\"set_ir_3_levels\"]:\n",
    "    dataset_params[\"intervention_info\"][\"data_impact\"] = [\"indirect\"]\n",
    "    dataset_params[\"intervention_info\"][\"actions\"] = [[0.07, 0.08, 0.09]]\n",
    "    dataset_params[\"intervention_info\"][\"action_width\"] = [3]\n",
    "    dataset_params[\"intervention_info\"][\"action_depth\"] = [1]\n",
    "    dataset_params[\"intervention_info\"][\"activities\"] = [[\"calculate_offer\"]]\n",
    "    dataset_params[\"intervention_info\"][\"column\"] = [\"interest_rate\"]\n",
    "    dataset_params[\"intervention_info\"][\"start_control_activity\"] = [[]]\n",
    "    dataset_params[\"intervention_info\"][\"end_control_activity\"] = [[]]\n",
    "elif dataset_params[\"intervention_info\"][\"name\"] == [\"time_contact_HQ\"]:\n",
    "    dataset_params[\"intervention_info\"][\"data_impact\"] = [\"direct\"]\n",
    "    dataset_params[\"intervention_info\"][\"actions\"] = [[\"do_nothing\",\"contact_headquarters\"]] #If binary, last action is the 'treatment' action\n",
    "    dataset_params[\"intervention_info\"][\"action_width\"] = [2]\n",
    "    dataset_params[\"intervention_info\"][\"action_depth\"] = [4] \n",
    "    dataset_params[\"intervention_info\"][\"activities\"] = [[\"do_nothing\", \"contact_headquarters\"]]\n",
    "    dataset_params[\"intervention_info\"][\"column\"] = [\"activity\"]\n",
    "    dataset_params[\"intervention_info\"][\"start_control_activity\"] = [[\"start_standard\"]]\n",
    "    dataset_params[\"intervention_info\"][\"end_control_activity\"] = [[\"start_standard\", \"email_customer\", \"call_customer\"]]\n",
    "elif dataset_params[\"intervention_info\"][\"name\"] == [\"choose_procedure\", \"set_ir_3_levels\"]:\n",
    "    dataset_params[\"intervention_info\"][\"data_impact\"] = [\"direct\", \"indirect\"]\n",
    "    dataset_params[\"intervention_info\"][\"actions\"] = [[\"start_standard\", \"start_priority\"], [0.07, 0.08, 0.09]]\n",
    "    dataset_params[\"intervention_info\"][\"action_width\"] = [2, 3] \n",
    "    dataset_params[\"intervention_info\"][\"action_depth\"] = [1, 1] \n",
    "    dataset_params[\"intervention_info\"][\"activities\"] = [[\"start_standard\", \"start_priority\"], [\"calculate_offer\"]]\n",
    "    dataset_params[\"intervention_info\"][\"column\"] = [\"activity\", \"interest_rate\"]\n",
    "    dataset_params[\"intervention_info\"][\"start_control_activity\"] = [[\"initiate_application\"], []]\n",
    "    dataset_params[\"intervention_info\"][\"end_control_activity\"] = [[\"initiate_application\"], []]\n",
    "\n",
    "dataset_params[\"intervention_info\"][\"retain_method\"] = \"precise\"\n",
    "# dataset_params[\"intervention_info\"][\"retain_method\"] = \"non-precise\"\n",
    "\n",
    "# Combinations\n",
    "dataset_params[\"intervention_info\"][\"action_combinations\"] = list(product(*dataset_params[\"intervention_info\"][\"actions\"]))\n",
    "dataset_params[\"intervention_info\"][\"action_width_combinations\"] = math.prod(dataset_params[\"intervention_info\"][\"action_width\"])\n",
    "dataset_params[\"intervention_info\"][\"action_depth_combinations\"] = math.prod(dataset_params[\"intervention_info\"][\"action_depth\"])\n",
    "\n",
    "dataset_params[\"intervention_info\"][\"len\"] = [action_width if action_width > 2 else 1 for action_width in dataset_params[\"intervention_info\"][\"action_width\"]]\n",
    "dataset_params[\"intervention_info\"][\"RCT\"] = False\n",
    "dataset_params[\"filename\"] = \"loan_log_\" +  str(dataset_params[\"intervention_info\"][\"name\"])\n",
    "#policy\n",
    "dataset_params[\"policies_info\"] = {}\n",
    "dataset_params[\"policies_info\"][\"general\"] = \"real\"\n",
    "dataset_params[\"policies_info\"][\"choose_procedure\"] = {\"amount\": 50000, \"est_quality\": 5}\n",
    "dataset_params[\"policies_info\"][\"time_contact_HQ\"] = \"real\"\n",
    "dataset_params[\"policies_info\"][\"min_quality\"] = 2\n",
    "dataset_params[\"policies_info\"][\"max_noc\"] = 3\n",
    "dataset_params[\"policies_info\"][\"max_nor\"] = 1\n",
    "dataset_params[\"policies_info\"][\"min_amount_contact_cust\"] = 50000"
   ]
  },
  {
   "cell_type": "markdown",
   "metadata": {},
   "source": [
    "## Offline Mode"
   ]
  },
  {
   "cell_type": "markdown",
   "metadata": {},
   "source": [
    "### - Use to generate offline, fixed datasets for methods requiring offline training"
   ]
  },
  {
   "cell_type": "code",
   "execution_count": 4,
   "metadata": {},
   "outputs": [],
   "source": [
    "# Initiate simulation\n",
    "offline_gen_normal = simulation.PresProcessGenerator(dataset_params, dataset_params[\"random_seed_train\"])\n",
    "\n",
    "# Generate training data (bank policy)\n",
    "train_normal = offline_gen_normal.run_simulation_normal(dataset_params[\"train_size\"])\n",
    "\n",
    "# Generate validation data\n",
    "train_normal_val = offline_gen_normal.run_simulation_normal(dataset_params[\"train_val_size\"], seed_to_add=88)"
   ]
  },
  {
   "cell_type": "code",
   "execution_count": 5,
   "metadata": {},
   "outputs": [],
   "source": [
    "# Generate RCT data (randomly chosen intervention actions)\n",
    "dataset_params_RCT = deepcopy(dataset_params)\n",
    "dataset_params_RCT[\"intervention_info\"][\"RCT\"] = True\n",
    "dataset_params_RCT[\"random_seed_train\"] = dataset_params[\"random_seed_train\"]*10\n",
    "dataset_params_RCT[\"simulation_start\"] = deepcopy(offline_gen_normal.simulation_end)\n",
    "\n",
    "# Initiate simulation\n",
    "offline_gen_RCT = simulation.PresProcessGenerator(dataset_params_RCT, dataset_params_RCT[\"random_seed_train\"])\n",
    "\n",
    "# Generate training data\n",
    "train_RCT = offline_gen_RCT.run_simulation_normal(dataset_params_RCT[\"train_size\"])\n",
    "\n",
    "# Generate validation data\n",
    "train_RCT_val = offline_gen_RCT.run_simulation_normal(dataset_params_RCT[\"train_val_size\"], seed_to_add=88)"
   ]
  },
  {
   "cell_type": "markdown",
   "metadata": {},
   "source": [
    "### - Vary the confounding level for offline datasets"
   ]
  },
  {
   "cell_type": "code",
   "execution_count": null,
   "metadata": {},
   "outputs": [],
   "source": [
    "# Set confounding level delta (combination of training data generated by bank policy and RCT)\n",
    "delta = 0\n",
    "train = confounding_level.set_delta(data=train_normal, data_RCT=train_RCT, delta=delta)\n",
    "train_val = confounding_level.set_delta(data=train_normal_val, data_RCT=train_RCT_val, delta=delta)"
   ]
  },
  {
   "cell_type": "markdown",
   "metadata": {},
   "source": [
    "##### Save data"
   ]
  },
  {
   "cell_type": "code",
   "execution_count": null,
   "metadata": {},
   "outputs": [],
   "source": [
    "save_data(dataset_params, path + \"\\\\Data\\\\\" + dataset_params[\"filename\"] + \"_\" + str(dataset_params[\"train_size\"]) + \"_dataset_params\")\n",
    "save_data(train_normal, path + \"\\\\Data\\\\\" + dataset_params[\"filename\"] + \"_\" + str(dataset_params[\"train_size\"]) + \"_train_normal\")\n",
    "save_data(train_normal_val, path + \"\\\\Data\\\\\" + dataset_params[\"filename\"] + \"_\" + str(dataset_params[\"train_size\"]) + \"_train_normal_val\")\n",
    "save_data(train_RCT, path + \"\\\\Data\\\\\" + dataset_params[\"filename\"] + \"_\" + str(dataset_params[\"train_size\"]) + \"_train_RCT\")\n",
    "save_data(train_RCT_val, path + \"\\\\Data\\\\\" + dataset_params[\"filename\"] + \"_\" + str(dataset_params[\"train_size\"]) + \"_train_RCT_val\")"
   ]
  },
  {
   "cell_type": "markdown",
   "metadata": {},
   "source": [
    "## Online Mode"
   ]
  },
  {
   "cell_type": "markdown",
   "metadata": {},
   "source": [
    "### - Use to generate cases (episodes) for methods requiring online training\n",
    "### - Use to generate cases (episodes) for testing the performance of (both onffline and online) methods (make sure to specify the seed to generate the same cases for each method)"
   ]
  },
  {
   "cell_type": "code",
   "execution_count": null,
   "metadata": {},
   "outputs": [],
   "source": [
    "# Initiate simulation\n",
    "online_gen = simulation.PresProcessGenerator(dataset_params, dataset_params[\"random_seed_test\"])\n",
    "\n",
    "# Start simulation\n",
    "for case in range(dataset_params[\"test_size\"]):\n",
    "    prefix_list = online_gen.start_simulation_inference(seed_to_add=case)\n",
    "\n",
    "    # Continue simulation and specify actions (for example using a model) until no more interventions are available\n",
    "    while online_gen.int_points_available:\n",
    "        \n",
    "        # Specify the action to take\n",
    "        index_action_taken = random.randrange(len(dataset_params[\"intervention_info\"][\"actions\"][online_gen.current_int_index]))\n",
    "        print(\"Action taken: \", dataset_params[\"intervention_info\"][\"actions\"][online_gen.current_int_index][index_action_taken])\n",
    "\n",
    "        # Continue simulation\n",
    "        prefix_list = online_gen.continue_simulation_inference(index_action_taken)\n",
    "\n",
    "    # End simulation\n",
    "    full_case = online_gen.end_simulation_inference()\n",
    "    print(\"\\n\", \"Full case: \", full_case)"
   ]
  }
 ],
 "metadata": {
  "kernelspec": {
   "display_name": "PresPMGenerator",
   "language": "python",
   "name": "python3"
  },
  "language_info": {
   "codemirror_mode": {
    "name": "ipython",
    "version": 3
   },
   "file_extension": ".py",
   "mimetype": "text/x-python",
   "name": "python",
   "nbconvert_exporter": "python",
   "pygments_lexer": "ipython3",
   "version": "3.11.5"
  }
 },
 "nbformat": 4,
 "nbformat_minor": 2
}
